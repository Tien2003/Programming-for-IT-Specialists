{
 "cells": [
  {
   "cell_type": "markdown",
   "id": "644e79ea",
   "metadata": {},
   "source": [
    "### Instructions:\n",
    "\n",
    "- You can attempt any number of questions and in any order.  \n",
    "- You may submit this workshop/practical for autograding as many times as you like to check on progress, however you will save time by checking and testing your own code before submitting.\n",
    "- Develop and check your answers in the spaces provided.\n",
    "- **Replace** the `raise NotImplementedError()` or `...` snippets with your solution to the question.\n",
    "- Do **NOT** remove any variables other provided markings already provided in the answer spaces.\n",
    "- Do **NOT** make any changes to this notebook outside of the spaces indicated.  \n",
    "  (If you do this, the submission system might not accept your work)\n",
    "\n",
    "### Submitting:\n",
    "\n",
    "1. Before you turn this problem in, make sure everything runs as expected by resetting this notebook.    \n",
    "   (You can do this from the menubar above by selecting `Kernel`&#8594;`Restart Kernel and Run All Cells...`)\n",
    "1. Don't forget to save your notebook after this step.\n",
    "1. Submit your .ipynb file to Gradescope via file upload or GitHub repository.\n",
    "1. You can submit as many times as needed.\n",
    "1. You **must** give your submitted file the **identical** filename to that which you downloaded without changing **any** aspects - spaces, underscores, capitalisation etc. If your operating system has changed the filename because you downloaded the file twice or more you **must** also fix this.  \n",
    "\n"
   ]
  },
  {
   "cell_type": "markdown",
   "id": "e2d94cb6",
   "metadata": {},
   "source": [
    "---"
   ]
  },
  {
   "cell_type": "markdown",
   "id": "7801eca2-4a15-4a16-8984-37f3b3a9b6d0",
   "metadata": {
    "deletable": false,
    "editable": false,
    "nbgrader": {
     "cell_type": "markdown",
     "checksum": "21e472ec4e458f4d291888ada3849483",
     "grade": false,
     "grade_id": "title",
     "locked": true,
     "schema_version": 3,
     "solution": false,
     "task": false
    },
    "tags": []
   },
   "source": [
    "# 2024 S1 COMPSCI 2009 Programming for IT - Coding Exam 1"
   ]
  },
  {
   "cell_type": "markdown",
   "id": "5a1c95ed-4931-45bd-98ad-89c2c29cc8f5",
   "metadata": {
    "deletable": false,
    "editable": false,
    "nbgrader": {
     "cell_type": "markdown",
     "checksum": "537165a976764e4847bd51c43326f8f4",
     "grade": false,
     "grade_id": "qu-1",
     "locked": true,
     "schema_version": 3,
     "solution": false,
     "task": false
    },
    "tags": []
   },
   "source": [
    "## Q1 - Pseudocode (3pts) \n",
    "\n",
    "The pseudocode below describes a sorting algorithm. Please implement it in Python.\n",
    "\n",
    "You **must** write the algorithm shown below, you cannot write a different sort algorithm. *This question will be manually marked, and while there are tests to check the solution is giving the correct answer, you will not earn marks if you do not implement the algorithm below*.\n",
    "\n",
    "```\n",
    "function my_sort(array, len)\n",
    "  for i = 0 to len-1\n",
    "    for j = 0 to len-1-i\n",
    "      if array[j+1] < array[j]\n",
    "        swap array[j] and array[j+1]\n",
    "```"
   ]
  },
  {
   "cell_type": "code",
   "execution_count": 3,
   "id": "7daf8c12-e7e7-4ca7-9db1-4d6742ee01d4",
   "metadata": {
    "deletable": false,
    "nbgrader": {
     "cell_type": "code",
     "checksum": "4cf97692788d82dc8ea15864e5825f11",
     "grade": false,
     "grade_id": "ans-1",
     "locked": false,
     "schema_version": 3,
     "solution": true,
     "task": false
    },
    "tags": []
   },
   "outputs": [
    {
     "name": "stdout",
     "output_type": "stream",
     "text": [
      "[1, 2, 3, 4]\n",
      "[-3, 1, 2, 3, 4]\n"
     ]
    }
   ],
   "source": [
    "def my_sort(arr, length):\n",
    "    # INSERT YOUR CODE BELOW\n",
    "    # YOUR CODE HERE\n",
    "    for i in range(0, length):\n",
    "        for j in range(0, length-i-1):\n",
    "            if arr[j+1] < arr[j]:\n",
    "                temp = arr[j+1]\n",
    "                arr[j+1] = arr[j]\n",
    "                arr[j] = temp\n",
    "    # END OF YOUR CODE\n",
    "    return arr\n",
    "\n",
    "# =======================\n",
    "# EXAMPLE TESTING CASES\n",
    "a = my_sort([1, 3, 4, 2], 4)\n",
    "print(a) # [1, 2, 3, 4]\n",
    "\n",
    "a = my_sort([1, 3, 4, 2, -3], 5)\n",
    "print(a) # [1, 2, 3, 4]"
   ]
  },
  {
   "cell_type": "code",
   "execution_count": null,
   "id": "2090417c-f11b-4760-ae93-e29537023e86",
   "metadata": {
    "deletable": false,
    "editable": false,
    "nbgrader": {
     "cell_type": "code",
     "checksum": "73f48eb3fa07cacfb0474eaddab9007a",
     "grade": true,
     "grade_id": "hiddentest1-1",
     "locked": true,
     "points": 0,
     "schema_version": 3,
     "solution": false,
     "task": false
    },
    "tags": []
   },
   "outputs": [],
   "source": [
    "# Testing Cell (Do NOT modify this cell)"
   ]
  },
  {
   "cell_type": "code",
   "execution_count": null,
   "id": "650a0198-573e-435d-a153-5bdb29249745",
   "metadata": {
    "deletable": false,
    "editable": false,
    "nbgrader": {
     "cell_type": "code",
     "checksum": "23d0d8232e390b194e3be816b1d51c14",
     "grade": true,
     "grade_id": "hiddentest1-2",
     "locked": true,
     "points": 0,
     "schema_version": 3,
     "solution": false,
     "task": false
    },
    "tags": []
   },
   "outputs": [],
   "source": [
    "# Testing Cell (Do NOT modify this cell)"
   ]
  },
  {
   "cell_type": "code",
   "execution_count": null,
   "id": "77b3cb3c-d43d-4e76-a69c-cbaa73595f4c",
   "metadata": {
    "deletable": false,
    "editable": false,
    "nbgrader": {
     "cell_type": "code",
     "checksum": "f901054308ee3f78478779b95a4a72c7",
     "grade": true,
     "grade_id": "hiddentest1-3",
     "locked": true,
     "points": 0,
     "schema_version": 3,
     "solution": false,
     "task": false
    },
    "tags": []
   },
   "outputs": [],
   "source": [
    "# Testing Cell (Do NOT modify this cell)"
   ]
  },
  {
   "cell_type": "markdown",
   "id": "8dc10004-6597-47f3-a59a-ddd87b616dc4",
   "metadata": {
    "deletable": false,
    "editable": false,
    "nbgrader": {
     "cell_type": "markdown",
     "checksum": "8305a3661e4e16d740a5f125fa464067",
     "grade": false,
     "grade_id": "qu-2",
     "locked": true,
     "schema_version": 3,
     "solution": false,
     "task": false
    },
    "tags": []
   },
   "source": [
    "## Q2 - Recursion (3pts) \n",
    "\n",
    "Please write a recursive function that performs a binary search to a number in a list of integers. Your function should return `True` if the item was found and `False` otherwise.\n",
    "\n",
    "Note, you must write the function in a recursive way otherwise no points will be awarded. *This question will be manually marked, and while there are tests to check the solution is giving the correct answer, you will not earn marks if you do not use recursion*."
   ]
  },
  {
   "cell_type": "code",
   "execution_count": 8,
   "id": "6c2a09c9-5dc8-40d1-b91f-9765a7c2272d",
   "metadata": {
    "deletable": false,
    "nbgrader": {
     "cell_type": "code",
     "checksum": "34a92669a6883018f6693e6ca8fe0ae3",
     "grade": false,
     "grade_id": "ans-2",
     "locked": false,
     "schema_version": 3,
     "solution": true,
     "task": false
    },
    "tags": []
   },
   "outputs": [
    {
     "name": "stdout",
     "output_type": "stream",
     "text": [
      "True\n",
      "False\n",
      "True\n"
     ]
    }
   ],
   "source": [
    "def rec_binary_search(li, target):\n",
    "    # INSERT YOUR CODE\n",
    "    # YOUR CODE HERE\n",
    "    if len(li) < 1:\n",
    "        return False\n",
    "    else:\n",
    "        if li[0] == target:\n",
    "            return True\n",
    "        else:\n",
    "            return rec_binary_search(li[1:], target)\n",
    "    # END OF YOUR CODE\n",
    "    \n",
    "# =======================\n",
    "# EXAMPLE TESTING CASES\n",
    "print(rec_binary_search([1,2,3,4,5,6], 3))  # True\n",
    "print(rec_binary_search([1,2,3,4,5,6], 23))  # False\n",
    "print(rec_binary_search([1,2,3,4,5,6], 6))  # True"
   ]
  },
  {
   "cell_type": "code",
   "execution_count": null,
   "id": "80b6fe3d-c79d-442c-8bd9-6009d305933a",
   "metadata": {
    "deletable": false,
    "editable": false,
    "nbgrader": {
     "cell_type": "code",
     "checksum": "ab58781809510787841ca805c88d99ff",
     "grade": true,
     "grade_id": "hiddentest2-1",
     "locked": true,
     "points": 0,
     "schema_version": 3,
     "solution": false,
     "task": false
    },
    "tags": []
   },
   "outputs": [],
   "source": [
    "# Testing Cell (Do NOT modify this cell)"
   ]
  },
  {
   "cell_type": "code",
   "execution_count": null,
   "id": "8904cb45-2ce5-4550-bb0c-58befaca2d26",
   "metadata": {
    "deletable": false,
    "editable": false,
    "nbgrader": {
     "cell_type": "code",
     "checksum": "dbf74caec03d1238cceac2950eaad3a8",
     "grade": true,
     "grade_id": "hiddentest2-2",
     "locked": true,
     "points": 0,
     "schema_version": 3,
     "solution": false,
     "task": false
    },
    "tags": []
   },
   "outputs": [],
   "source": [
    "# Testing Cell (Do NOT modify this cell)"
   ]
  },
  {
   "cell_type": "code",
   "execution_count": null,
   "id": "ff465520-d207-44ff-bba8-895efcd11566",
   "metadata": {
    "deletable": false,
    "editable": false,
    "nbgrader": {
     "cell_type": "code",
     "checksum": "67deb04c0a3ec5f18fbb5e5645b2978e",
     "grade": true,
     "grade_id": "hiddentest2-3",
     "locked": true,
     "points": 0,
     "schema_version": 3,
     "solution": false,
     "task": false
    },
    "tags": []
   },
   "outputs": [],
   "source": [
    "# Testing Cell (Do NOT modify this cell)"
   ]
  },
  {
   "cell_type": "markdown",
   "id": "7e369498-88e1-4fd0-a306-45f027bac6b4",
   "metadata": {
    "deletable": false,
    "editable": false,
    "nbgrader": {
     "cell_type": "markdown",
     "checksum": "3508546d030830e80f78cf3f74bc0888",
     "grade": false,
     "grade_id": "qu-3",
     "locked": true,
     "schema_version": 3,
     "solution": false,
     "task": false
    },
    "tags": []
   },
   "source": [
    "## Q3 - Hash functions and tables (3pts)\n",
    "\n",
    "A **hash** function can be used to check the integrity of the data, i.e. works like a **checksum** function. Such function works as follow: \n",
    "1. the sender sends both the message `s` and its hash value `h`. \n",
    "1. The receiver receives the message `s'` and a hash value `h`.\n",
    "1. The receiver applies the hash function on `s'` and gets `h'` then compare `h` and `h'` for data integrity.\n",
    "\n",
    "For example, \n",
    "- The sender sends `good morning`, and its hash value `35`\n",
    "- The receiver receives `goood morning`, and `35`\n",
    "- The receiver calculates the hash value of `goood morning` and gets `25`. By comparing the hash values (`35` and `25`), the receiver knows that the message was corrupted and can ask the sender to re-send the message.\n",
    "\n",
    "*For the purpose of this question, we will assume a corrupted message will have exactly 1 extra character in it*\n",
    "\n",
    "Please complete the program below:\n",
    "- `hash_func`: Each character in the message is assigned a unique numeric value based on its ASCII value (a=97, b=98, ..., z=122). The hash value is calculated by summing up the numeric values of all the characters in the message and then doubling it.\n",
    "   * We have provided the dictionary `d` for the mapping. \n",
    "   * For example, if the message is \"hello\", the numeric values would be [104, 101, 108, 108, 111], and the hash value would be 2 * (104 + 101 + 108 + 108 + 111) = 1064.\n",
    "- `hash_check`: the receiver receives a message `s` and a hash value `h`. Please use the `hash_check` function to check if the message is corrupted. The function should **return**\n",
    "   * \"OK!\", if the message was not corrupted, OR\n",
    "   * the extra letter in the message if it was corrupted"
   ]
  },
  {
   "cell_type": "code",
   "execution_count": 30,
   "id": "8ab60e74-c6d2-4cb8-a1f5-5119db271ffc",
   "metadata": {
    "deletable": false,
    "nbgrader": {
     "cell_type": "code",
     "checksum": "e5337b06a12ad6695bd7e8cb67764aa8",
     "grade": false,
     "grade_id": "ans-3",
     "locked": false,
     "schema_version": 3,
     "solution": true,
     "task": false
    },
    "tags": []
   },
   "outputs": [
    {
     "name": "stdout",
     "output_type": "stream",
     "text": [
      "2438, OK!\n",
      "1064, j\n",
      "1064, l\n"
     ]
    }
   ],
   "source": [
    "import math\n",
    "d = {\n",
    "    'a': 97, 'b': 98, 'c': 99, 'd': 100, 'e': 101, 'f': 102, 'g': 103,\n",
    "    'h': 104, 'i': 105, 'j': 106, 'k': 107, 'l': 108, 'm': 109,\n",
    "    'n': 110, 'o': 111, 'p': 112, 'q': 113, 'r': 114, 's': 115,\n",
    "    't': 116, 'u': 117, 'v': 118, 'w': 119, 'x': 120, 'y': 121, 'z': 122,\n",
    "    ' ': 32, '.': 46, ',': 44\n",
    "}\n",
    "\n",
    "def hash_func(s):\n",
    "    '''The function should return a hash value'''\n",
    "    # INSERT YOUR CODE\n",
    "    # YOUR CODE HERE\n",
    "    hash_value = 0\n",
    "    for i in s:\n",
    "        hash_value += d[i]\n",
    "    return hash_value*2\n",
    "    # END OF YOUR CODE\n",
    "    \n",
    "def hash_check(s, h):\n",
    "    '''The function should return either \"OK!\" or the extra letter'''\n",
    "    # INSERT YOUR CODE\n",
    "    # YOUR CODE HERE\n",
    "    receiver_msg = hash_func(s)\n",
    "    if receiver_msg == h:\n",
    "        return \"OK!\"\n",
    "    else:\n",
    "        temp = (receiver_msg)//2 - (h)//2\n",
    "        for i in d:\n",
    "            if d[i] == temp:\n",
    "                return i\n",
    "    # END OF YOUR CODE\n",
    "\n",
    "# =======================\n",
    "# EXAMPLE TESTING CASES\n",
    "h = hash_func('good morning')\n",
    "s = hash_check('good morning', h)\n",
    "print(f'{h}, {s}') # 2438, OK!\n",
    "    \n",
    "h = hash_func('hello')\n",
    "s = hash_check('helljo', h)\n",
    "print(f'{h}, {s}') # 1064, o\n",
    "\n",
    "h = hash_func('hello')\n",
    "s = hash_check('helllo', h)\n",
    "print(f'{h}, {s}') # 1064, l"
   ]
  },
  {
   "cell_type": "code",
   "execution_count": null,
   "id": "2bd5c92c-e01f-40d1-998d-53188569cc2f",
   "metadata": {
    "deletable": false,
    "editable": false,
    "nbgrader": {
     "cell_type": "code",
     "checksum": "b942f60c86e1c423ed87b1c1b1d834e7",
     "grade": true,
     "grade_id": "hiddentest3-1",
     "locked": true,
     "points": 0.75,
     "schema_version": 3,
     "solution": false,
     "task": false
    },
    "tags": []
   },
   "outputs": [],
   "source": [
    "# Testing Cell (Do NOT modify this cell)"
   ]
  },
  {
   "cell_type": "code",
   "execution_count": null,
   "id": "8ac9fddf-f476-411e-832e-30f1939c1bf0",
   "metadata": {
    "deletable": false,
    "editable": false,
    "nbgrader": {
     "cell_type": "code",
     "checksum": "2c10908e15be1de4fd2edd26314c30d8",
     "grade": true,
     "grade_id": "hiddentest3-2",
     "locked": true,
     "points": 0.75,
     "schema_version": 3,
     "solution": false,
     "task": false
    },
    "tags": []
   },
   "outputs": [],
   "source": [
    "# Testing Cell (Do NOT modify this cell)"
   ]
  },
  {
   "cell_type": "code",
   "execution_count": null,
   "id": "e1ead4ab-f004-4a51-a5ca-f96fdbc5f84f",
   "metadata": {
    "deletable": false,
    "editable": false,
    "nbgrader": {
     "cell_type": "code",
     "checksum": "507ab31c9416cdaf2ecce810f238af85",
     "grade": true,
     "grade_id": "hiddentest3-3",
     "locked": true,
     "points": 0.75,
     "schema_version": 3,
     "solution": false,
     "task": false
    },
    "tags": []
   },
   "outputs": [],
   "source": [
    "# Testing Cell (Do NOT modify this cell)"
   ]
  },
  {
   "cell_type": "code",
   "execution_count": null,
   "id": "de962cf0-70e2-4959-b30d-98fc6d6b3ba8",
   "metadata": {
    "deletable": false,
    "editable": false,
    "nbgrader": {
     "cell_type": "code",
     "checksum": "c484150888a676746e17ce4f5b13681a",
     "grade": true,
     "grade_id": "hiddentest3-4",
     "locked": true,
     "points": 0.75,
     "schema_version": 3,
     "solution": false,
     "task": false
    },
    "tags": []
   },
   "outputs": [],
   "source": [
    "# Testing Cell (Do NOT modify this cell)"
   ]
  },
  {
   "cell_type": "markdown",
   "id": "4bfc0da0-8808-42d9-962c-ef091b37e3e2",
   "metadata": {
    "deletable": false,
    "editable": false,
    "nbgrader": {
     "cell_type": "markdown",
     "checksum": "821b643d573d2044af509c7a1616408f",
     "grade": false,
     "grade_id": "qu-4",
     "locked": true,
     "schema_version": 3,
     "solution": false,
     "task": false
    },
    "tags": []
   },
   "source": [
    "## Q4 - BFS (2pts) \n",
    "\n",
    "Please complete the two following functions.\n",
    "\n",
    "`path_exists` function that checks if a path exists between `node1` and `node2`. It should **return** `True` if a path exists and `False` otherwise.\n",
    "\n",
    "`distance` function below that returns the shortest distance between two nodes in a graph. The function is based on the BFS algorithm. \n",
    "\n",
    "For example, in the disgram below, the distance between `a` and `c` is 2, and the distance between `a` and `e` is 3.\n",
    "![CleanShot 2022-05-25 at 18.18.27.jpg](attachment:23c192a8-e4d0-433b-8b01-90247317d569.jpg)\n",
    "\n",
    "The two functions are tested seperately, and you earn marks for each you successfully implement."
   ]
  },
  {
   "cell_type": "code",
   "execution_count": 62,
   "id": "eeafa058-5119-4830-91da-8d6732962716",
   "metadata": {
    "deletable": false,
    "nbgrader": {
     "cell_type": "code",
     "checksum": "84bdc93227d4dea8407501cfce5976c3",
     "grade": false,
     "grade_id": "ans-4",
     "locked": false,
     "schema_version": 3,
     "solution": true,
     "task": false
    },
    "tags": []
   },
   "outputs": [
    {
     "name": "stdout",
     "output_type": "stream",
     "text": [
      "True, 2\n",
      "False, -1\n"
     ]
    }
   ],
   "source": [
    "import copy\n",
    "\n",
    "def add_node(graph, node):\n",
    "    # '''add a node into the graph'''\n",
    "    if node not in graph:\n",
    "        graph[node] = []\n",
    "\n",
    "def add_edge(graph, node1, node2):\n",
    "    # '''add an edge from node 1 to node 2'''        \n",
    "    add_node(graph, node1)\n",
    "    add_node(graph, node2)\n",
    "\n",
    "    # add edge node1 -> node2\n",
    "    node = graph[node1]\n",
    "    if node2 not in node:\n",
    "        node.append(node2)\n",
    "\n",
    "def get_neighbor(graph, node):\n",
    "    #'''get neighboring nodes'''\n",
    "    if node in graph:\n",
    "        return copy.deepcopy(graph[node])\n",
    "\n",
    "def show(graph):\n",
    "    return str(graph)\n",
    "\n",
    "def path_exists(graph, node1, node2):\n",
    "    '''return the distance between node1 and node2 using BFS'''\n",
    "\n",
    "    # initialise the queue for BFS\n",
    "    queue = get_neighbor(graph, node1)\n",
    "\n",
    "    # keep track of visited nodes\n",
    "    # INSERT YOUR CODE\n",
    "    # ~ 2 lines\n",
    "    d={} # the dictionary that store the distance from node1 to each node\n",
    "    for m in queue:\n",
    "        d[m] = 1\n",
    "    # YOUR CODE HERE\n",
    "    # END OF YOUR CODE\n",
    "\n",
    "    while len(queue) > 0:\n",
    "        node = queue.pop(0)\n",
    "        if node == node2:\n",
    "            return True\n",
    "        else:\n",
    "            q = get_neighbor(graph, node)\n",
    "            # INSERT YOUR CODE\n",
    "            # update the list of visited nodes\n",
    "            # YOUR CODE HERE\n",
    "            for i in q:\n",
    "                d[i] = d[node] + 1\n",
    "                queue.append(i)\n",
    "            queue = queue + q\n",
    "            # END OF YOUR CODE\n",
    "        \n",
    "    return False\n",
    "\n",
    "def distance(graph, node1, node2):\n",
    "    '''return the distance between node1 and node2 using BFS'''\n",
    "\n",
    "    # initialise the queue for BFS\n",
    "    queue = get_neighbor(graph, node1)\n",
    "\n",
    "    d={} # the dictionary that store the distance from node1 to each node\n",
    "    for q in queue:\n",
    "        d[q] = 1\n",
    "\n",
    "    while len(queue) > 0:\n",
    "        node = queue.pop(0)\n",
    "        if node == node2:\n",
    "            return d[node] # return the distance\n",
    "        else:\n",
    "            q1 = get_neighbor(graph, node)\n",
    "            # INSERT YOUR CODE\n",
    "            # update the distance for each neighbor before pushing into the queue\n",
    "            # ~ 3 lines\n",
    "            # YOUR CODE HERE\n",
    "            for i in q1:\n",
    "                d[i] = d[node] + 1\n",
    "                queue.append(i)            \n",
    "                # END OF YOUR CODE\n",
    "            queue = queue + q1 # for simplicity we do not consider cycle\n",
    "    return -1\n",
    "\n",
    "def build_test_graph(graph):\n",
    "    add_edge(graph, 'a', 'b')\n",
    "    add_edge(graph, 'b', 'c')\n",
    "    add_edge(graph, 'c', 'd')\n",
    "    add_edge(graph, 'a', 'd')\n",
    "    add_edge(graph, 'e', 'f')\n",
    "        \n",
    "# =======================\n",
    "# EXAMPLE TESTING CASES\n",
    "g = {}\n",
    "build_test_graph(g)\n",
    "\n",
    "e = path_exists(g, 'a', 'c')\n",
    "d = distance(g, 'a', 'c')\n",
    "print(f\"{e}, {d}\") # True, 2\n",
    "\n",
    "e = path_exists(g, 'a', 'e')\n",
    "d = distance(g, 'a', 'e')\n",
    "print(f\"{e}, {d}\") # False, -1 (there is no path)"
   ]
  },
  {
   "cell_type": "code",
   "execution_count": null,
   "id": "8c8acd62-04d5-4759-b097-d7c065356ee2",
   "metadata": {
    "deletable": false,
    "editable": false,
    "nbgrader": {
     "cell_type": "code",
     "checksum": "138db6b1ae5c61e9a73f02fd7831e585",
     "grade": true,
     "grade_id": "hiddentest4-1",
     "locked": true,
     "points": 0.75,
     "schema_version": 3,
     "solution": false,
     "task": false
    },
    "tags": []
   },
   "outputs": [],
   "source": [
    "# Testing Cell (Do NOT modify this cell)"
   ]
  },
  {
   "cell_type": "code",
   "execution_count": null,
   "id": "05972ea6",
   "metadata": {
    "deletable": false,
    "editable": false,
    "nbgrader": {
     "cell_type": "code",
     "checksum": "c4a73f8395203f09f9178049a31765ed",
     "grade": true,
     "grade_id": "hiddentest4-2",
     "locked": true,
     "points": 0.75,
     "schema_version": 3,
     "solution": false,
     "task": false
    },
    "tags": []
   },
   "outputs": [],
   "source": [
    "# Testing Cell (Do NOT modify this cell)"
   ]
  },
  {
   "cell_type": "code",
   "execution_count": null,
   "id": "61e1156f",
   "metadata": {
    "deletable": false,
    "editable": false,
    "nbgrader": {
     "cell_type": "code",
     "checksum": "79a5d9d7f105be86783d744d3e09299c",
     "grade": true,
     "grade_id": "hiddentest4-3",
     "locked": true,
     "points": 0.75,
     "schema_version": 3,
     "solution": false,
     "task": false
    },
    "tags": []
   },
   "outputs": [],
   "source": [
    "# Testing Cell (Do NOT modify this cell)"
   ]
  },
  {
   "cell_type": "code",
   "execution_count": null,
   "id": "4f9e35bb-42ed-438c-b875-0488da251a47",
   "metadata": {
    "deletable": false,
    "editable": false,
    "nbgrader": {
     "cell_type": "code",
     "checksum": "2e214ad0756be3ff3859cd0fa7b74217",
     "grade": true,
     "grade_id": "hiddentest4-4",
     "locked": true,
     "points": 0.75,
     "schema_version": 3,
     "solution": false,
     "task": false
    },
    "tags": []
   },
   "outputs": [],
   "source": [
    "# Testing Cell (Do NOT modify this cell)"
   ]
  },
  {
   "cell_type": "markdown",
   "id": "167b2416-52a6-4b1e-b468-5ce9f5c22323",
   "metadata": {
    "deletable": false,
    "editable": false,
    "nbgrader": {
     "cell_type": "markdown",
     "checksum": "a292a421aa9ee0f52b64f7bb49284395",
     "grade": false,
     "grade_id": "qu-5",
     "locked": true,
     "schema_version": 3,
     "solution": false,
     "task": false
    },
    "tags": []
   },
   "source": [
    "## Q5 - Greedy algorithms (3pts) \n",
    "\n",
    "Finding the minimum number of coins for the change is an NP problem and is computationally expensive. Please implement the greedy algorithm in the lecture: take the coin with the largest value in each step until the accumulated sum is reached."
   ]
  },
  {
   "cell_type": "code",
   "execution_count": 86,
   "id": "7af4ad7b-466c-4528-9849-3e714ce573e7",
   "metadata": {
    "deletable": false,
    "nbgrader": {
     "cell_type": "code",
     "checksum": "89d12075afade5ac61cfe324777d8721",
     "grade": false,
     "grade_id": "ans-5",
     "locked": false,
     "schema_version": 3,
     "solution": true,
     "task": false
    },
    "tags": []
   },
   "outputs": [
    {
     "name": "stdout",
     "output_type": "stream",
     "text": [
      "[50, 20, 20]\n",
      "[20, 10, 5]\n",
      "[20, 5]\n"
     ]
    }
   ],
   "source": [
    "coins = [50, 20, 10, 5]\n",
    "\n",
    "def coin_change(val):\n",
    "    q = [] # a queue that stores the coins for the change  \n",
    "    i = 0\n",
    "    while val > 0:\n",
    "        # INSERT YOUR CODE\n",
    "        # ~ 8 lines\n",
    "        # YOUR CODE HERE\n",
    "        for i in coins:\n",
    "            while val >= i:\n",
    "                val = val - i\n",
    "                q.append(i)\n",
    "                if (val < coins[-1]) and val != 0:\n",
    "                     q.append(coins[-1])\n",
    "                elif (val <= coins[-1]) and (val != 0) and (i == coins[-1]):\n",
    "                    val = val -i\n",
    "                    q.append(i)\n",
    "                    break\n",
    "        if val < coins[-1]:\n",
    "                break \n",
    "\n",
    "\n",
    "    return q\n",
    "\n",
    "# =======================\n",
    "# EXAMPLE TESTING CASES\n",
    "q = coin_change(90)\n",
    "print(q) # [50, 20, 20]\n",
    "q = coin_change(35)\n",
    "print(q) # [20, 10, 5]\n",
    "q = coin_change(22)\n",
    "print(q) # [50, 20, 10, 5, 5], here we are forced to give an extra coin"
   ]
  },
  {
   "cell_type": "code",
   "execution_count": null,
   "id": "073814ac-1100-490b-ab0a-a1e2a09208c9",
   "metadata": {
    "deletable": false,
    "editable": false,
    "nbgrader": {
     "cell_type": "code",
     "checksum": "5030eea9882bf0271c11acf09189a522",
     "grade": true,
     "grade_id": "hiddentest5-1",
     "locked": true,
     "points": 1.5,
     "schema_version": 3,
     "solution": false,
     "task": false
    },
    "tags": []
   },
   "outputs": [],
   "source": [
    "# Testing Cell (Do NOT modify this cell)"
   ]
  },
  {
   "cell_type": "code",
   "execution_count": null,
   "id": "38758238-5f8b-4d78-90ac-0c52cca41ed3",
   "metadata": {
    "deletable": false,
    "editable": false,
    "nbgrader": {
     "cell_type": "code",
     "checksum": "2cf712dabdc2d343ac6887d720dc7f78",
     "grade": true,
     "grade_id": "hiddentest5-2",
     "locked": true,
     "points": 1.5,
     "schema_version": 3,
     "solution": false,
     "task": false
    },
    "tags": []
   },
   "outputs": [],
   "source": [
    "# Testing Cell (Do NOT modify this cell)"
   ]
  },
  {
   "cell_type": "markdown",
   "id": "34fcbc45-b8ec-400f-a446-7e89f32da11d",
   "metadata": {
    "deletable": false,
    "editable": false,
    "nbgrader": {
     "cell_type": "markdown",
     "checksum": "48beb6a5fe4bfac328d4e490f80bdfbe",
     "grade": false,
     "grade_id": "ending",
     "locked": true,
     "schema_version": 3,
     "solution": false,
     "task": false
    },
    "tags": []
   },
   "source": [
    "# <font color=red>Remember to submit your Jupyter notebook to Gradescope</font>"
   ]
  }
 ],
 "metadata": {
  "kernelspec": {
   "display_name": "Python 3 (ipykernel)",
   "language": "python",
   "name": "python3"
  },
  "language_info": {
   "codemirror_mode": {
    "name": "ipython",
    "version": 3
   },
   "file_extension": ".py",
   "mimetype": "text/x-python",
   "name": "python",
   "nbconvert_exporter": "python",
   "pygments_lexer": "ipython3",
   "version": "3.11.1"
  }
 },
 "nbformat": 4,
 "nbformat_minor": 5
}
