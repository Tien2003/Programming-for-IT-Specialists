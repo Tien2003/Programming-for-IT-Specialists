{
 "cells": [
  {
   "cell_type": "markdown",
   "id": "44fdaded-b7ac-4db2-96c8-9296b35b526c",
   "metadata": {
    "nbgrader": {
     "grade": false,
     "grade_id": "title",
     "locked": true,
     "schema_version": 3,
     "solution": false,
     "task": false
    },
    "tags": []
   },
   "source": [
    "# COMP SCI 2009 Programming for IT - W05 Practical"
   ]
  },
  {
   "cell_type": "markdown",
   "id": "c5f33f52-ae9d-43ef-abc0-9f172b1c78ce",
   "metadata": {
    "nbgrader": {
     "grade": false,
     "grade_id": "context",
     "locked": true,
     "schema_version": 3,
     "solution": false,
     "task": false
    },
    "tags": []
   },
   "source": [
    "## Set Covering\n",
    "As mentioned in the lecture, the **set cover problem** is an NP-complete problem. In this task, you will solve this question using both exhausive search (brute force) and greedy apporach. \n",
    "\n",
    "The problem is defined as follow:\n",
    "\n",
    "Given a `list` of `sets` where each `set` contains integers, please find the minimum number of sets that cover the integers from `1` to `10`\n",
    "\n",
    "For example, given the following three sets:\n",
    "1. `[1, 2, 3, 4, 5]`\n",
    "1. `[2, 4, 6, 8]`\n",
    "1. `[6, 7, 8, 9, 10]`\n",
    "\n",
    "Your code should find that `set1` and `set3` will cover all the integers from `1` to `10`.\n"
   ]
  },
  {
   "cell_type": "markdown",
   "id": "af058080-c283-4fec-8bd4-d62ade05290f",
   "metadata": {
    "nbgrader": {
     "grade": false,
     "grade_id": "qu-1",
     "locked": true,
     "schema_version": 3,
     "solution": false,
     "task": false
    },
    "tags": []
   },
   "source": [
    "## Exercise 1: Set cover - brute force \n",
    "\n",
    "First, implement the brute force approach that tests `all` combinations. You can assume there will be a solution. To simplify your code a bit, you can use the `itertools`. Please read its document and examples below:\n",
    "\n",
    "- https://www.geeksforgeeks.org/itertools-combinations-module-python-print-possible-combinations/\n",
    "- https://docs.python.org/3/library/itertools.html"
   ]
  },
  {
   "cell_type": "code",
   "execution_count": 1,
   "id": "beb50c75-edb5-4f3b-83d0-f87cb0dfdf1d",
   "metadata": {
    "nbgrader": {
     "grade": false,
     "grade_id": "ans-1",
     "locked": false,
     "schema_version": 3,
     "solution": true,
     "task": false
    },
    "tags": []
   },
   "outputs": [
    {
     "name": "stdout",
     "output_type": "stream",
     "text": [
      "([1, 2, 3], [4, 5, 6], [7, 8, 9, 10])\n",
      "---\n",
      "([1, 7], [2, 4, 8, 9, 10], [3, 5, 6])\n"
     ]
    }
   ],
   "source": [
    "import itertools\n",
    "\n",
    "def brute_force_set(li):\n",
    "    # INSERT YOUR CODE BELOW\n",
    "    # use itertools.combinations\n",
    "    # ~ 8 lines\n",
    "    ### BEGIN SOLUTION\n",
    "    for r in range(0, len(li)+1):\n",
    "        for subset in itertools.combinations(li, r):\n",
    "            s = {}\n",
    "            for sset in subset:\n",
    "                for e in sset:\n",
    "                    s[e] = ''\n",
    "            if(len(s) == 10):\n",
    "                return subset\n",
    "    ### END SOLUTION\n",
    "\n",
    "# =======================\n",
    "# EXAMPLE TESTING CASES\n",
    "set_list1 = [ # first test input\n",
    "    [1, 2, 3],\n",
    "    [4, 5, 6],\n",
    "    [7, 8, 9, 10],\n",
    "    [1, 3, 7],\n",
    "    [2, 4, 6, 8]\n",
    "]\n",
    "\n",
    "set_list2 = [ # second test input\n",
    "    [4, 2, 5],\n",
    "    [1, 7],\n",
    "    [2, 4, 8, 9, 10],\n",
    "    [5, 10],\n",
    "    [3, 5, 6],\n",
    "    [2, 6],\n",
    "    [1, 8, 9, 10]\n",
    "]\n",
    "            \n",
    "ss = brute_force_set(set_list1)\n",
    "print(ss) # ([1, 2, 3], [4, 5, 6], [7, 8, 9, 10])\n",
    "print('---')\n",
    "ss = brute_force_set(set_list2)\n",
    "print(ss) # ([1, 7], [2, 4, 8, 9, 10], [3, 5, 6])"
   ]
  },
  {
   "cell_type": "code",
   "execution_count": 2,
   "id": "fc126544-a231-4787-a432-828a293a0f56",
   "metadata": {
    "nbgrader": {
     "grade": true,
     "grade_id": "hiddentest1-1",
     "locked": true,
     "points": 0.5,
     "schema_version": 3,
     "solution": false,
     "task": false
    },
    "tags": []
   },
   "outputs": [],
   "source": [
    "# Testing Cell (Do NOT modify this cell)\n",
    "### BEGIN HIDDEN TESTS\n",
    "s = [[1, 2, 3], [4, 5, 6, 7], [8, 9, 10], [3, 5]]\n",
    "ss = brute_force_set(s)\n",
    "assert ss[-1] == [8, 9, 10], \"brute_force_set failed a test\"\n",
    "### END HIDDEN TESTS"
   ]
  },
  {
   "cell_type": "code",
   "execution_count": 3,
   "id": "8a8e3d94-9e22-48cb-b50f-0408ea2bf6b6",
   "metadata": {
    "nbgrader": {
     "grade": true,
     "grade_id": "hiddentest1-2",
     "locked": true,
     "points": 0.5,
     "schema_version": 3,
     "solution": false,
     "task": false
    },
    "tags": []
   },
   "outputs": [],
   "source": [
    "# Testing Cell (Do NOT modify this cell)\n",
    "### BEGIN HIDDEN TESTS\n",
    "s = [[1, 2, 3, 4, 5, 6, 7, 8], [2, 4, 6], [9], [10], [8]]\n",
    "ss = brute_force_set(s)\n",
    "assert ss[-1] == [10], \"brute_force_set failed a test\"\n",
    "### END HIDDEN TESTS"
   ]
  },
  {
   "cell_type": "markdown",
   "id": "b91929d0-3275-4d90-89bf-98ed9ddde14b",
   "metadata": {
    "nbgrader": {
     "grade": false,
     "grade_id": "qu-2",
     "locked": true,
     "schema_version": 3,
     "solution": false,
     "task": false
    },
    "tags": []
   },
   "source": [
    "## Exercise 2: Set cover - greedy\n",
    "\n",
    "\n",
    "\n",
    "In this exercise, please implement a greedy algorithm that **for each step, takes a set that contains the most uncovered integers** until it covers all integers from `1` to `10`."
   ]
  },
  {
   "cell_type": "code",
   "execution_count": 4,
   "id": "764b7bd7-af98-4b14-9db9-7dca5b1f9dd3",
   "metadata": {
    "nbgrader": {
     "grade": false,
     "grade_id": "ans-2",
     "locked": false,
     "schema_version": 3,
     "solution": true,
     "task": false
    },
    "tags": []
   },
   "outputs": [
    {
     "name": "stdout",
     "output_type": "stream",
     "text": [
      "[[7, 8, 9, 10], [1, 2, 3], [4, 5, 6]]\n",
      "---\n",
      "[[2, 4, 8, 9, 10], [3, 5, 6], [1, 7]]\n"
     ]
    }
   ],
   "source": [
    "import copy\n",
    "def greedy_set(list_sets):\n",
    "    sets = list_sets.copy()\n",
    "    ans = [] # your answer, should be a list of sets\n",
    "    covered = {}\n",
    "\n",
    "    kk = 0\n",
    "    while True:\n",
    "        # INSERT YOUR CODE BELOW\n",
    "        # Step 1: search for the set with most uncovered integers\n",
    "        # Step 2: add the set into ans\n",
    "        # Step 3: check if ans already cover all integers\n",
    "        # ~ 15 lines\n",
    "        \n",
    "        ### BEGIN SOLUTION\n",
    "        # search for the set with most uncovered integers \n",
    "        max_c = 0\n",
    "        max_s = {}\n",
    "\n",
    "        for ss in sets:                \n",
    "            # calculate number of uncovered integers\n",
    "            c = 0\n",
    "            for i in ss:\n",
    "                if i not in covered:\n",
    "                    c += 1         \n",
    "                    \n",
    "            # update current best solution\n",
    "            if c > max_c:\n",
    "                max_s = ss\n",
    "                max_c = c\n",
    "#                 print(f'{max_s} {max_c}')\n",
    "            \n",
    "        # add into the set\n",
    "#         print(f'append {max_s}')\n",
    "        ans.append(max_s)\n",
    "        sets.remove(max_s)\n",
    "        \n",
    "        for i in max_s:\n",
    "            covered[i] = 0\n",
    "\n",
    "        # check if all numbers are included\n",
    "        if(len(covered) == 10):\n",
    "            return ans\n",
    "        ### END SOLUTION\n",
    "\n",
    "        \n",
    "        # BELOW 3 LINES ARE TO AVOID INFINITE LOOP FOR YOU\n",
    "        kk += 1\n",
    "        if kk > 10:\n",
    "            break\n",
    "\n",
    "# =======================\n",
    "# EXAMPLE TESTING CASES\n",
    "set_list1 = [ # first test input\n",
    "    [1, 2, 3],\n",
    "    [4, 5, 6],\n",
    "    [7, 8, 9, 10],\n",
    "    [1, 3, 7],\n",
    "    [2, 4, 6, 8]\n",
    "]\n",
    "\n",
    "set_list2 = [ # second test input\n",
    "    [4, 2, 5],\n",
    "    [1, 7],\n",
    "    [2, 4, 8, 9, 10],\n",
    "    [5, 10],\n",
    "    [3, 5, 6],\n",
    "    [2, 6],\n",
    "    [1, 8, 9, 10]\n",
    "]\n",
    "\n",
    "s = greedy_set(set_list1)\n",
    "print(s) # [[7, 8, 9, 10], [1, 2, 3], [4, 5, 6]]\n",
    "print('---')\n",
    "s = greedy_set(set_list2)\n",
    "print(s) # [[2, 4, 8, 9, 10], [3, 5, 6], [1, 7]]"
   ]
  },
  {
   "cell_type": "code",
   "execution_count": 5,
   "id": "470d0da2-50a4-4a93-9f89-e05aa7ddd18a",
   "metadata": {
    "nbgrader": {
     "grade": true,
     "grade_id": "hiddentest2-1",
     "locked": true,
     "points": 0.5,
     "schema_version": 3,
     "solution": false,
     "task": false
    },
    "tags": []
   },
   "outputs": [],
   "source": [
    "# Testing Cell (Do NOT modify this cell)\n",
    "### BEGIN HIDDEN TESTS\n",
    "s = [[1, 2, 3], [4, 5, 6, 7], [8, 9, 10], [3, 5]]\n",
    "ss = greedy_set(s)\n",
    "assert ss[-1] == [8, 9, 10], \"greedy_set failed a test\"\n",
    "### END HIDDEN TESTS"
   ]
  },
  {
   "cell_type": "code",
   "execution_count": 6,
   "id": "cbc47965-77ac-4047-bbc5-f461d4950ff4",
   "metadata": {
    "nbgrader": {
     "grade": true,
     "grade_id": "hiddentest2-2",
     "locked": true,
     "points": 0.5,
     "schema_version": 3,
     "solution": false,
     "task": false
    },
    "tags": []
   },
   "outputs": [],
   "source": [
    "# Testing Cell (Do NOT modify this cell)\n",
    "### BEGIN HIDDEN TESTS\n",
    "s = [[1, 2, 3, 4, 5, 6, 7, 8], [2, 4, 6], [9], [10], [8]]\n",
    "ss = greedy_set(s)\n",
    "assert ss[-1] == [10], \"greedy_set failed a test\"\n",
    "### END HIDDEN TESTS"
   ]
  },
  {
   "cell_type": "markdown",
   "id": "26f2e059-0ce1-4a93-8386-ce23e3813c83",
   "metadata": {
    "nbgrader": {
     "grade": false,
     "grade_id": "qu-3",
     "locked": true,
     "schema_version": 3,
     "solution": false,
     "task": false
    },
    "tags": []
   },
   "source": [
    "# Exercise 3 - Knapsack Problem\n",
    "\n",
    "It’s Boxing Day and you are in a shopping contest! You have one shopping bag and you would like to fill your bags with items that have the largest sum of values. Please solve this problem using dynamic programming."
   ]
  },
  {
   "cell_type": "code",
   "execution_count": 7,
   "id": "5b4bbdec-c8a0-4512-94ec-b4634f633877",
   "metadata": {
    "nbgrader": {
     "grade": false,
     "grade_id": "ans-3",
     "locked": false,
     "schema_version": 3,
     "solution": true,
     "task": false
    },
    "tags": []
   },
   "outputs": [
    {
     "name": "stdout",
     "output_type": "stream",
     "text": [
      "    0    0    0    0 3000 \n",
      "    0 1500 1500 1500 3000 \n",
      "    0 1500 1500 2000 3500 \n",
      "---\n",
      "    0  700  700  700  700  700  700  700 \n",
      "    0  700  700  700 1000 1000 1000 1000 \n",
      "    0  700  700  700 1400 1400 1400 1700 \n",
      "    0  700  700  700 1400 1700 1700 1700 \n",
      "    0  700  700 1200 1900 1900 1900 2600 \n",
      "    0  900 1600 1600 2100 2800 2800 2800 \n",
      "    0  900 1700 2400 2400 2900 3600 3600 \n"
     ]
    }
   ],
   "source": [
    "def knapsack_dp(bag_size, items):\n",
    "    num_row = len(items)\n",
    "    num_col = bag_size    \n",
    "    grid = [[0]* (num_col+1) for _ in range(num_row)] # initialise the grid    \n",
    "    prev_max = 0\n",
    "    \n",
    "    # INSERT YOUR CODE\n",
    "    # Update the DP table (the variable grid)\n",
    "    # ~ 15 lines\n",
    "    ### BEGIN SOLUTION\n",
    "    for i in range(0, num_row):\n",
    "        w = items[i][1]\n",
    "        v = items[i][2]\n",
    "        \n",
    "        for j in range(1, num_col+1):\n",
    "            if(i != 0):\n",
    "                prev_max = grid[i-1][j]            \n",
    "            else:\n",
    "                prev_max = 0\n",
    "                \n",
    "            if j-w >= 0:\n",
    "                current = v + grid[i-1][j-w]                      \n",
    "            else:\n",
    "                current = 0\n",
    "            grid[i][j] = max(prev_max, current)            \n",
    "    ### END SOLUTION\n",
    "    return grid\n",
    "\n",
    "def display(grid):\n",
    "    for r in grid:\n",
    "        s = ' '\n",
    "        for c in r:\n",
    "            s += f'{c:4} '\n",
    "        print(s)\n",
    "\n",
    "# =======================\n",
    "# EXAMPLE TESTING CASES\n",
    "bag1 = 4 # the maximum weight for the bag\n",
    "item_list1 = [\n",
    "    ['guitar', 4, 3000],\n",
    "    ['speaker', 1, 1500],\n",
    "    ['laptop', 3, 2000]\n",
    "]\n",
    "\n",
    "bag2 = 7 # the maximum weight for the bag\n",
    "item_list2 = [\n",
    "    ['pasta', 1, 700],\n",
    "    ['soups', 3, 300],\n",
    "    ['pork', 3, 700],\n",
    "    ['steak', 4, 1000],\n",
    "    ['lamb', 3, 1200],\n",
    "    ['Cheese', 1, 900],\n",
    "    ['Mushroom', 1, 800],\n",
    "]\n",
    "\n",
    "g = knapsack_dp(bag1, item_list1)\n",
    "display(g)\n",
    "print('---')\n",
    "g = knapsack_dp(bag2, item_list2)\n",
    "display(g)\n",
    "\n",
    "# output should be as below\n",
    "\n",
    "#     0    0    0    0 3000 \n",
    "#     0 1500 1500 1500 3000 \n",
    "#     0 1500 1500 2000 3500 \n",
    "# ---\n",
    "#     0  700  700  700  700  700  700  700 \n",
    "#     0  700  700  700 1000 1000 1000 1000 \n",
    "#     0  700  700  700 1400 1400 1400 1700 \n",
    "#     0  700  700  700 1400 1700 1700 1700 \n",
    "#     0  700  700 1200 1900 1900 1900 2600 \n",
    "#     0  900 1600 1600 2100 2800 2800 2800 \n",
    "#     0  900 1700 2400 2400 2900 3600 3600 "
   ]
  },
  {
   "cell_type": "code",
   "execution_count": 8,
   "id": "397ab328-660a-4ed4-883b-670efa99fd67",
   "metadata": {
    "nbgrader": {
     "grade": true,
     "grade_id": "hiddentest3-1",
     "locked": true,
     "points": 1,
     "schema_version": 3,
     "solution": false,
     "task": false
    },
    "tags": []
   },
   "outputs": [],
   "source": [
    "# Testing Cell (Do NOT modify this cell)\n",
    "### BEGIN HIDDEN TESTS\n",
    "item_list1 = [['a', 4, 3000],['b', 1, 1500],['c', 3, 2000]]\n",
    "g = knapsack_dp(5, item_list1)\n",
    "assert g[-1][-1] == 4500, \"knapsack_dp failed a test\"\n",
    "### END HIDDEN TESTS"
   ]
  },
  {
   "cell_type": "code",
   "execution_count": 9,
   "id": "92d9b712-ea7b-474b-bf90-c5f2eaf140ff",
   "metadata": {
    "nbgrader": {
     "grade": true,
     "grade_id": "hiddentest3-2",
     "locked": true,
     "points": 1,
     "schema_version": 3,
     "solution": false,
     "task": false
    },
    "tags": []
   },
   "outputs": [],
   "source": [
    "# Testing Cell (Do NOT modify this cell)\n",
    "### BEGIN HIDDEN TESTS\n",
    "item_list1 = [['a', 2, 3000],['b', 1, 1500],['c', 1, 2000]]\n",
    "g = knapsack_dp(5, item_list1)\n",
    "assert g[-1][-1] == 6500, \"knapsack_dp failed a test\"\n",
    "### END HIDDEN TESTS"
   ]
  }
 ],
 "metadata": {
  "kernelspec": {
   "display_name": "Python 3 (ipykernel)",
   "language": "python",
   "name": "python3"
  },
  "language_info": {
   "codemirror_mode": {
    "name": "ipython",
    "version": 3
   },
   "file_extension": ".py",
   "mimetype": "text/x-python",
   "name": "python",
   "nbconvert_exporter": "python",
   "pygments_lexer": "ipython3",
   "version": "3.11.0"
  }
 },
 "nbformat": 4,
 "nbformat_minor": 5
}
